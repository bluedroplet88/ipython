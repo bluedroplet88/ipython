{
 "cells": [
  {
   "cell_type": "code",
   "execution_count": 58,
   "metadata": {},
   "outputs": [],
   "source": [
    "import matplotlib.pyplot as plt\n",
    "import numpy as np\n",
    "import random\n",
    "import math\n",
    "from collections import defaultdict\n",
    "\n",
    "X = np.array([[1, 2],\n",
    "              [1.5, 1.8],\n",
    "              [5, 8 ],\n",
    "              [8, 8],\n",
    "              [1, 0.6],\n",
    "              [9,11]])\n"
   ]
  },
  {
   "cell_type": "code",
   "execution_count": 18,
   "metadata": {},
   "outputs": [
    {
     "data": {
      "image/png": "[encoded data removed]",
      "text/plain": [
       "<matplotlib.figure.Figure at 0x1144d4a90>"
      ]
     },
     "metadata": {},
     "output_type": "display_data"
    }
   ],
   "source": [
    "plt.scatter(X[:,0],X[:,1])\n",
    "plt.show()"
   ]
  },
  {
   "cell_type": "code",
   "execution_count": 87,
   "metadata": {},
   "outputs": [],
   "source": [
    "def kmeans(data, k):\n",
    "    centroids = []\n",
    "    new_centroids = [] \n",
    "    for i in range(0,k):\n",
    "        new_centroids.append((random.uniform(min(data[:,0]),max(data[:,0])),random.uniform(min(data[:,1]),max(data[:,1]))))\n",
    "    \n",
    "    while new_centroids != centroids: \n",
    "        centroids = new_centroids\n",
    "        new_centroids = [] \n",
    "        clusters = defaultdict(list)\n",
    "        for point in data:\n",
    "            distance = math.inf\n",
    "            closest_centroid = (0,0)\n",
    "            for centroid in centroids:\n",
    "                if (point[0] - centroid[0])**2 + (point[1] - centroid[1])**2 < distance:\n",
    "                    distance = (point[0] - centroid[0])**2 + (point[1] - centroid[1])**2\n",
    "                    closest_centroid = centroid\n",
    "            clusters[closest_centroid].append(point)  \n",
    "    \n",
    "        for points in clusters.values():\n",
    "            x = 0\n",
    "            y = 0\n",
    "            for i in points:\n",
    "                x += i[0]\n",
    "                y += i[1]\n",
    "            new_centroids.append((x/len(points), y/len(points)))\n",
    "    return clusters\n",
    "        \n",
    "        \n",
    "        \n",
    "    \n",
    "    \n",
    "        "
   ]
  },
  {
   "cell_type": "code",
   "execution_count": 90,
   "metadata": {},
   "outputs": [
    {
     "data": {
      "text/plain": [
       "defaultdict(list,\n",
       "            {(1.1666666666666667, 1.4666666666666666): [array([1., 2.]),\n",
       "              array([1.5, 1.8]),\n",
       "              array([1. , 0.6])],\n",
       "             (6.5, 8.0): [array([5., 8.]), array([8., 8.])],\n",
       "             (9.0, 11.0): [array([ 9., 11.])]})"
      ]
     },
     "execution_count": 90,
     "metadata": {},
     "output_type": "execute_result"
    }
   ],
   "source": [
    "kmeans(X,3)"
   ]
  },
  {
   "cell_type": "code",
   "execution_count": null,
   "metadata": {
    "collapsed": true
   },
   "outputs": [],
   "source": []
  }
 ],
 "metadata": {
  "kernelspec": {
   "display_name": "Python 3",
   "language": "python",
   "name": "python3"
  },
  "language_info": {
   "codemirror_mode": {
    "name": "ipython",
    "version": 3
   },
   "file_extension": ".py",
   "mimetype": "text/x-python",
   "name": "python",
   "nbconvert_exporter": "python",
   "pygments_lexer": "ipython3",
   "version": "3.6.3"
  }
 },
 "nbformat": 4,
 "nbformat_minor": 2
}
