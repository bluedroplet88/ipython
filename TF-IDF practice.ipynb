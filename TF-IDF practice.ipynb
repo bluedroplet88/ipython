{
 "cells": [
  {
   "cell_type": "code",
   "execution_count": 4,
   "metadata": {
    "collapsed": true
   },
   "outputs": [],
   "source": [
    "import pandas as pd\n",
    "import numpy as np\n",
    "from collections import defaultdict\n",
    "import re\n",
    "from collections import Counter\n",
    "import math"
   ]
  },
  {
   "cell_type": "code",
   "execution_count": 5,
   "metadata": {
    "collapsed": true
   },
   "outputs": [],
   "source": [
    "documents = pd.read_csv(\"Questions.csv\",  encoding='latin-1')"
   ]
  },
  {
   "cell_type": "code",
   "execution_count": 9,
   "metadata": {},
   "outputs": [],
   "source": [
    "## Just used the first 500 questions \n",
    "small_documents = documents['Title'].head(500)"
   ]
  },
  {
   "cell_type": "code",
   "execution_count": 10,
   "metadata": {},
   "outputs": [
    {
     "data": {
      "text/plain": [
       "0    How can I find the full path to a font from it...\n",
       "1              Get a preview JPEG of a PDF on Windows?\n",
       "2    Continuous Integration System for a Python Cod...\n",
       "3       cx_Oracle: How do I iterate over a result set?\n",
       "4    Using 'in' to match an attribute of Python obj...\n",
       "Name: Title, dtype: object"
      ]
     },
     "execution_count": 10,
     "metadata": {},
     "output_type": "execute_result"
    }
   ],
   "source": [
    "small_documents.head()"
   ]
  },
  {
   "cell_type": "code",
   "execution_count": 11,
   "metadata": {
    "collapsed": true
   },
   "outputs": [],
   "source": [
    "## quick coalesce function to prevent division by 0 error\n",
    "\n",
    "def coalesce(value):\n",
    "    if value == 0:\n",
    "        return np.NaN\n",
    "    else:\n",
    "        return value"
   ]
  },
  {
   "cell_type": "code",
   "execution_count": 14,
   "metadata": {},
   "outputs": [],
   "source": [
    "## figure out the unique set of words -- bag of words\n",
    "\n",
    "all_unique_words = []\n",
    "for document in small_documents:\n",
    "    for word in re.sub('[^A-Za-z0-9]+', ' ', document).split():\n",
    "        if word.lower() not in all_unique_words:\n",
    "            all_unique_words.append(word.lower())"
   ]
  },
  {
   "cell_type": "code",
   "execution_count": 53,
   "metadata": {},
   "outputs": [],
   "source": [
    "## figure out frequency for each word in each document \n",
    "\n",
    "## denominator\n",
    "all_words = []\n",
    "for document in small_documents:\n",
    "    for word in document.split():\n",
    "        all_words.append(word.lower())\n",
    "counts = Counter(all_words)\n",
    "\n",
    "## calculate TF\n",
    "tf = defaultdict(list)\n",
    "for i in all_unique_words:\n",
    "    for index, document in enumerate(small_documents):\n",
    "        for x in document.split():\n",
    "            frequency = 0\n",
    "            if x.lower() == i.lower():\n",
    "                frequency += 1\n",
    "        overall_frequency = counts[i]\n",
    "        tf[i].append(frequency/coalesce(overall_frequency))"
   ]
  },
  {
   "cell_type": "code",
   "execution_count": 54,
   "metadata": {},
   "outputs": [],
   "source": [
    "## compute IDF\n",
    "\n",
    "total_documents = len(small_documents)\n",
    "\n",
    "documents_with_word = defaultdict(int)\n",
    "\n",
    "for document in small_documents:\n",
    "    for word in all_unique_words:\n",
    "        if word in document.lower().split():\n",
    "            documents_with_word[word] += 1\n",
    "            \n",
    "tf_idf = defaultdict(int)\n",
    "\n",
    "for word in all_unique_words:\n",
    "    tf_idf[word] = pd.Series(tf[word]) * math.log(total_documents/coalesce(documents_with_word[word]))"
   ]
  },
  {
   "cell_type": "code",
   "execution_count": 55,
   "metadata": {
    "collapsed": true
   },
   "outputs": [],
   "source": [
    "def most_relevant_doc(word):\n",
    "    ## for a given word return the most relevant document ##\n",
    "    index_max = np.argmax(tf_idf[word])\n",
    "    return [small_documents[np.argmax(tf_idf[word])], word, tf_idf[word].max()]\n",
    "    \n",
    "    "
   ]
  },
  {
   "cell_type": "code",
   "execution_count": 60,
   "metadata": {},
   "outputs": [
    {
     "name": "stderr",
     "output_type": "stream",
     "text": [
      "/Users/shirleyliu/anaconda3/lib/python3.6/site-packages/numpy/core/fromnumeric.py:52: FutureWarning: 'argmax' is deprecated. Use 'idxmax' instead. The behavior of 'argmax' will be corrected to return the positional maximum in the future. Use 'series.values.argmax' to get the position of the maximum now.\n",
      "  return getattr(obj, method)(*args, **kwds)\n"
     ]
    },
    {
     "data": {
      "text/plain": [
       "['Python reading Oracle path', 'path', 0.9210340371976184]"
      ]
     },
     "execution_count": 60,
     "metadata": {},
     "output_type": "execute_result"
    }
   ],
   "source": [
    "most_relevant_doc(\"path\")"
   ]
  },
  {
   "cell_type": "code",
   "execution_count": null,
   "metadata": {
    "collapsed": true
   },
   "outputs": [],
   "source": []
  }
 ],
 "metadata": {
  "kernelspec": {
   "display_name": "Python 3",
   "language": "python",
   "name": "python3"
  },
  "language_info": {
   "codemirror_mode": {
    "name": "ipython",
    "version": 3
   },
   "file_extension": ".py",
   "mimetype": "text/x-python",
   "name": "python",
   "nbconvert_exporter": "python",
   "pygments_lexer": "ipython3",
   "version": "3.6.3"
  }
 },
 "nbformat": 4,
 "nbformat_minor": 2
}
